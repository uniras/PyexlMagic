{
 "cells": [
  {
   "cell_type": "code",
   "execution_count": null,
   "metadata": {},
   "outputs": [],
   "source": [
    "%pip install -q -U pysmagic pyxelmagic\n",
    "from pyxelmagic import register_pyxelmagic\n",
    "\n",
    "register_pyxelmagic()"
   ]
  },
  {
   "cell_type": "code",
   "execution_count": null,
   "metadata": {},
   "outputs": [],
   "source": [
    "%%runpyx 500 500\n",
    "\n",
    "import pyxel\n",
    "\n",
    "pyxel.init(160, 120)\n",
    "\n",
    "def update():\n",
    "    if pyxel.btnp(pyxel.KEY_Q):\n",
    "        pyxel.quit()\n",
    "\n",
    "def draw():\n",
    "    pyxel.cls(0)\n",
    "    pyxel.rect(10, 10, 20, 20, 11)\n",
    "\n",
    "pyxel.run(update, draw)\n"
   ]
  }
 ],
 "metadata": {
  "language_info": {
   "name": "python"
  }
 },
 "nbformat": 4,
 "nbformat_minor": 2
}
